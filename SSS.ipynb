{
 "cells": [
  {
   "cell_type": "code",
   "execution_count": 10,
   "id": "353a2cb5",
   "metadata": {
    "scrolled": true
   },
   "outputs": [
    {
     "name": "stdout",
     "output_type": "stream",
     "text": [
      "b'\\xe9\\xc2\\xf1\\x80 \\x10\\xff\\xd6\\t\\xd9\\x02\\xf4\\xac\\xb5>\\xa3'\n",
      "Index #1: b'304037c9879a5754feb510c32ec28d81'\n",
      "Index #2: b'5ac77d136f05aed3e701269ba85a5860'\n",
      "Index #3: b'8345bb5ac88f0651106d34ac2a2deb42'\n",
      "Index #4: b'8fc9e8a6be3a5dddd4694a2aa56bf3a2'\n",
      "Index #5: b'564b2eef19b0f55f2305581d271c4080'\n"
     ]
    }
   ],
   "source": [
    "from binascii import hexlify\n",
    "from Cryptodome.Cipher import AES\n",
    "from Cryptodome.Random import get_random_bytes\n",
    "from Cryptodome.Protocol.SecretSharing import Shamir\n",
    "\n",
    "# Generate key and print shares\n",
    "key = get_random_bytes(16)\n",
    "print(key)\n",
    "shares = Shamir.split(2, 5, key)\n",
    "for idx, share in shares:\n",
    "    print(\"Index #%d: %s\" % (idx, hexlify(share)))"
   ]
  },
  {
   "cell_type": "code",
   "execution_count": 37,
   "id": "09e34efd",
   "metadata": {},
   "outputs": [
    {
     "name": "stdout",
     "output_type": "stream",
     "text": [
      "b'\\xe9\\xc2\\xf1\\x80 \\x10\\xff\\xd6\\t\\xd9\\x02\\xf4\\xac\\xb5>\\xa3'\n",
      "b'\\xe9\\xc2\\xf1\\x80 \\x10\\xff\\xd6\\t\\xd9\\x02\\xf4\\xac\\xb5>\\xa3'\n"
     ]
    }
   ],
   "source": [
    "# Reconstruct key using two shares\n",
    "partial_shares = []\n",
    "for x in range(2):\n",
    "    partial_shares.append(shares[x])\n",
    "\n",
    "key_reconstructed = Shamir.combine(partial_shares)\n",
    "\n",
    "# Verify\n",
    "print(key)\n",
    "print(key_reconstructed)"
   ]
  },
  {
   "cell_type": "code",
   "execution_count": null,
   "id": "441b93a7",
   "metadata": {},
   "outputs": [],
   "source": []
  }
 ],
 "metadata": {
  "kernelspec": {
   "display_name": "Python 3 (ipykernel)",
   "language": "python",
   "name": "python3"
  },
  "language_info": {
   "codemirror_mode": {
    "name": "ipython",
    "version": 3
   },
   "file_extension": ".py",
   "mimetype": "text/x-python",
   "name": "python",
   "nbconvert_exporter": "python",
   "pygments_lexer": "ipython3",
   "version": "3.9.7"
  }
 },
 "nbformat": 4,
 "nbformat_minor": 5
}

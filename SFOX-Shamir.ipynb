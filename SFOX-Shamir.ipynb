{
 "cells": [
  {
   "cell_type": "code",
   "execution_count": 3,
   "id": "353a2cb5",
   "metadata": {
    "scrolled": true
   },
   "outputs": [
    {
     "name": "stdout",
     "output_type": "stream",
     "text": [
      "b'311bdffdf41f12870faa858ac9e71a03'\n",
      "Index #1: b'b080e93dd0a8ea7b46ed012bb40682da'\n",
      "Index #2: b'322db27dbd70e37f9d258cc832242b36'\n",
      "Index #3: b'b3b684bd99c71b83d46208694fc5b3ef'\n",
      "Index #4: b'377704fd66c0f1762ab4970f3e617869'\n",
      "Index #5: b'b6ec323d4277098a63f313ae4380e0b0'\n"
     ]
    }
   ],
   "source": [
    "from binascii import hexlify\n",
    "from Cryptodome.Cipher import AES\n",
    "from Cryptodome.Random import get_random_bytes\n",
    "from Cryptodome.Protocol.SecretSharing import Shamir\n",
    "\n",
    "# Generate key and print shares\n",
    "private_key = get_random_bytes(16) # This is done by SFOX admin; use ecdsa instead\n",
    "public_key = get_random_bytes(16)\n",
    "print(hexlify(private_key))\n",
    "shares = Shamir.split(2, 5, private_key)\n",
    "for idx, share in shares:\n",
    "    print(\"Index #%d: %s\" % (idx, hexlify(share)))"
   ]
  },
  {
   "cell_type": "code",
   "execution_count": 4,
   "id": "50f394fc",
   "metadata": {},
   "outputs": [
    {
     "name": "stdout",
     "output_type": "stream",
     "text": [
      "b'1\\x1b\\xdf\\xfd\\xf4\\x1f\\x12\\x87\\x0f\\xaa\\x85\\x8a\\xc9\\xe7\\x1a\\x03'\n",
      "b'1\\x1b\\xdf\\xfd\\xf4\\x1f\\x12\\x87\\x0f\\xaa\\x85\\x8a\\xc9\\xe7\\x1a\\x03'\n"
     ]
    }
   ],
   "source": [
    "# Reconstruct key using two shares\n",
    "partial_shares = []\n",
    "for x in range(2):\n",
    "    partial_shares.append(shares[x])\n",
    "\n",
    "key_reconstructed = Shamir.combine(partial_shares)\n",
    "\n",
    "# Verify\n",
    "print(private_key)\n",
    "print(key_reconstructed)\n",
    "\n",
    "# Save key and shares to file\n",
    "with open('Shamir.txt', 'w') as f:\n",
    "    for share in shares:\n",
    "        f.write(f\"{share}\\n\")   \n",
    "    f.close()\n",
    "with open('Shamir.txt', 'ab') as f:\n",
    "    f.write(hexlify(private_key))\n",
    "with open('Shamir.txt', 'a') as f:\n",
    "    f.write('\\n')\n",
    "with open('Shamir.txt', 'ab') as f:\n",
    "    f.write(hexlify(public_key))\n"
   ]
  },
  {
   "cell_type": "code",
   "execution_count": null,
   "id": "68028215",
   "metadata": {},
   "outputs": [],
   "source": []
  }
 ],
 "metadata": {
  "kernelspec": {
   "display_name": "Python 3 (ipykernel)",
   "language": "python",
   "name": "python3"
  },
  "language_info": {
   "codemirror_mode": {
    "name": "ipython",
    "version": 3
   },
   "file_extension": ".py",
   "mimetype": "text/x-python",
   "name": "python",
   "nbconvert_exporter": "python",
   "pygments_lexer": "ipython3",
   "version": "3.9.7"
  }
 },
 "nbformat": 4,
 "nbformat_minor": 5
}
